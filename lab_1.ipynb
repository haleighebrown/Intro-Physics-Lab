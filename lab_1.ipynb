{
 "cells": [
  {
   "cell_type": "code",
   "execution_count": 16,
   "metadata": {},
   "outputs": [],
   "source": [
    "import math\n",
    "import numpy as np\n",
    "def alpha_solver (l,cl,ct):\n",
    "    alpha = (cl/(l*ct))\n",
    "    return alpha\n",
    "\n",
    "def rule4 (a,da,b,db,m,n,q,c,dc,o):\n",
    "    rule4_math = q*np.sqrt((m*(da/a))**2+(n*(db/b))**2+(o*(dc/c))**2)\n",
    "    return rule4_math\n",
    "\n",
    "def rule3(da,db):\n",
    "    rule3_math = np.sqrt((da)**2+(db)**2)\n",
    "    return rule3_math\n"
   ]
  },
  {
   "cell_type": "code",
   "execution_count": 17,
   "metadata": {},
   "outputs": [
    {
     "name": "stdout",
     "output_type": "stream",
     "text": [
      "alpha is  1.7228309558266145e-05\n",
      "unc is temp is  0.31622776601683794\n",
      "unc in alpha is  1.596296282604527e-07\n"
     ]
    }
   ],
   "source": [
    "length = 1.05\n",
    "unc_length = .001\n",
    "delta_length = .00125\n",
    "unc_delta_length = .00001\n",
    "t_intinal = 23.4\n",
    "t_final = 92.5\n",
    "delta_t_intinal = .3\n",
    "delta_t_final = .1\n",
    "delta_t = t_final - t_intinal\n",
    "\n",
    "alpha = alpha_solver(length,delta_length,delta_t)\n",
    "print (\"alpha is \" , alpha)\n",
    "\n",
    "unc_temp = rule3(delta_t_intinal,delta_t_final)\n",
    "print(\"unc is temp is \", unc_temp)\n",
    "\n",
    "unc_alpha = rule4(length,unc_length,delta_t,unc_temp,-1,-1,alpha,delta_length,unc_delta_length,1)\n",
    "print(\"unc in alpha is \", unc_alpha)"
   ]
  },
  {
   "cell_type": "code",
   "execution_count": null,
   "metadata": {},
   "outputs": [],
   "source": []
  }
 ],
 "metadata": {
  "kernelspec": {
   "display_name": "Python 3",
   "language": "python",
   "name": "python3"
  },
  "language_info": {
   "codemirror_mode": {
    "name": "ipython",
    "version": 3
   },
   "file_extension": ".py",
   "mimetype": "text/x-python",
   "name": "python",
   "nbconvert_exporter": "python",
   "pygments_lexer": "ipython3",
   "version": "3.6.5"
  }
 },
 "nbformat": 4,
 "nbformat_minor": 2
}
